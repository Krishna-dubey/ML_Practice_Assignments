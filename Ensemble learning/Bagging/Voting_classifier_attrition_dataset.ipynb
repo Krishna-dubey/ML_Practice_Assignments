{
 "cells": [
  {
   "cell_type": "code",
   "execution_count": 1,
   "metadata": {},
   "outputs": [],
   "source": [
    "import pandas as pd\n",
    "from sklearn.preprocessing import LabelEncoder\n",
    "import numpy as np"
   ]
  },
  {
   "cell_type": "code",
   "execution_count": 2,
   "metadata": {},
   "outputs": [
    {
     "data": {
      "text/html": [
       "<div>\n",
       "<style scoped>\n",
       "    .dataframe tbody tr th:only-of-type {\n",
       "        vertical-align: middle;\n",
       "    }\n",
       "\n",
       "    .dataframe tbody tr th {\n",
       "        vertical-align: top;\n",
       "    }\n",
       "\n",
       "    .dataframe thead th {\n",
       "        text-align: right;\n",
       "    }\n",
       "</style>\n",
       "<table border=\"1\" class=\"dataframe\">\n",
       "  <thead>\n",
       "    <tr style=\"text-align: right;\">\n",
       "      <th></th>\n",
       "      <th>Age</th>\n",
       "      <th>Attrition</th>\n",
       "      <th>BusinessTravel</th>\n",
       "      <th>DailyRate</th>\n",
       "      <th>Department</th>\n",
       "      <th>DistanceFromHome</th>\n",
       "      <th>Education</th>\n",
       "      <th>EducationField</th>\n",
       "      <th>EmployeeCount</th>\n",
       "      <th>EmployeeNumber</th>\n",
       "      <th>...</th>\n",
       "      <th>PerformanceRating</th>\n",
       "      <th>RelationshipSatisfaction</th>\n",
       "      <th>StockOptionLevel</th>\n",
       "      <th>TotalWorkingYears</th>\n",
       "      <th>TrainingTimesLastYear</th>\n",
       "      <th>WorkLifeBalance</th>\n",
       "      <th>YearsAtCompany</th>\n",
       "      <th>YearsInCurrentRole</th>\n",
       "      <th>YearsSinceLastPromotion</th>\n",
       "      <th>YearsWithCurrManager</th>\n",
       "    </tr>\n",
       "  </thead>\n",
       "  <tbody>\n",
       "    <tr>\n",
       "      <th>0</th>\n",
       "      <td>41</td>\n",
       "      <td>Yes</td>\n",
       "      <td>Travel_Rarely</td>\n",
       "      <td>1102</td>\n",
       "      <td>Sales</td>\n",
       "      <td>1</td>\n",
       "      <td>2</td>\n",
       "      <td>Life Sciences</td>\n",
       "      <td>1</td>\n",
       "      <td>1</td>\n",
       "      <td>...</td>\n",
       "      <td>3</td>\n",
       "      <td>1</td>\n",
       "      <td>0</td>\n",
       "      <td>8</td>\n",
       "      <td>0</td>\n",
       "      <td>1</td>\n",
       "      <td>6</td>\n",
       "      <td>4</td>\n",
       "      <td>0</td>\n",
       "      <td>5</td>\n",
       "    </tr>\n",
       "    <tr>\n",
       "      <th>1</th>\n",
       "      <td>49</td>\n",
       "      <td>No</td>\n",
       "      <td>Travel_Frequently</td>\n",
       "      <td>279</td>\n",
       "      <td>Research &amp; Development</td>\n",
       "      <td>8</td>\n",
       "      <td>1</td>\n",
       "      <td>Life Sciences</td>\n",
       "      <td>1</td>\n",
       "      <td>2</td>\n",
       "      <td>...</td>\n",
       "      <td>4</td>\n",
       "      <td>4</td>\n",
       "      <td>1</td>\n",
       "      <td>10</td>\n",
       "      <td>3</td>\n",
       "      <td>3</td>\n",
       "      <td>10</td>\n",
       "      <td>7</td>\n",
       "      <td>1</td>\n",
       "      <td>7</td>\n",
       "    </tr>\n",
       "    <tr>\n",
       "      <th>2</th>\n",
       "      <td>37</td>\n",
       "      <td>Yes</td>\n",
       "      <td>Travel_Rarely</td>\n",
       "      <td>1373</td>\n",
       "      <td>Research &amp; Development</td>\n",
       "      <td>2</td>\n",
       "      <td>2</td>\n",
       "      <td>Other</td>\n",
       "      <td>1</td>\n",
       "      <td>4</td>\n",
       "      <td>...</td>\n",
       "      <td>3</td>\n",
       "      <td>2</td>\n",
       "      <td>0</td>\n",
       "      <td>7</td>\n",
       "      <td>3</td>\n",
       "      <td>3</td>\n",
       "      <td>0</td>\n",
       "      <td>0</td>\n",
       "      <td>0</td>\n",
       "      <td>0</td>\n",
       "    </tr>\n",
       "    <tr>\n",
       "      <th>3</th>\n",
       "      <td>33</td>\n",
       "      <td>No</td>\n",
       "      <td>Travel_Frequently</td>\n",
       "      <td>1392</td>\n",
       "      <td>Research &amp; Development</td>\n",
       "      <td>3</td>\n",
       "      <td>4</td>\n",
       "      <td>Life Sciences</td>\n",
       "      <td>1</td>\n",
       "      <td>5</td>\n",
       "      <td>...</td>\n",
       "      <td>3</td>\n",
       "      <td>3</td>\n",
       "      <td>0</td>\n",
       "      <td>8</td>\n",
       "      <td>3</td>\n",
       "      <td>3</td>\n",
       "      <td>8</td>\n",
       "      <td>7</td>\n",
       "      <td>3</td>\n",
       "      <td>0</td>\n",
       "    </tr>\n",
       "    <tr>\n",
       "      <th>4</th>\n",
       "      <td>27</td>\n",
       "      <td>No</td>\n",
       "      <td>Travel_Rarely</td>\n",
       "      <td>591</td>\n",
       "      <td>Research &amp; Development</td>\n",
       "      <td>2</td>\n",
       "      <td>1</td>\n",
       "      <td>Medical</td>\n",
       "      <td>1</td>\n",
       "      <td>7</td>\n",
       "      <td>...</td>\n",
       "      <td>3</td>\n",
       "      <td>4</td>\n",
       "      <td>1</td>\n",
       "      <td>6</td>\n",
       "      <td>3</td>\n",
       "      <td>3</td>\n",
       "      <td>2</td>\n",
       "      <td>2</td>\n",
       "      <td>2</td>\n",
       "      <td>2</td>\n",
       "    </tr>\n",
       "  </tbody>\n",
       "</table>\n",
       "<p>5 rows × 33 columns</p>\n",
       "</div>"
      ],
      "text/plain": [
       "   Age Attrition     BusinessTravel  DailyRate              Department  \\\n",
       "0   41       Yes      Travel_Rarely       1102                   Sales   \n",
       "1   49        No  Travel_Frequently        279  Research & Development   \n",
       "2   37       Yes      Travel_Rarely       1373  Research & Development   \n",
       "3   33        No  Travel_Frequently       1392  Research & Development   \n",
       "4   27        No      Travel_Rarely        591  Research & Development   \n",
       "\n",
       "   DistanceFromHome  Education EducationField  EmployeeCount  EmployeeNumber  \\\n",
       "0                 1          2  Life Sciences              1               1   \n",
       "1                 8          1  Life Sciences              1               2   \n",
       "2                 2          2          Other              1               4   \n",
       "3                 3          4  Life Sciences              1               5   \n",
       "4                 2          1        Medical              1               7   \n",
       "\n",
       "   ...  PerformanceRating RelationshipSatisfaction  StockOptionLevel  \\\n",
       "0  ...                  3                        1                 0   \n",
       "1  ...                  4                        4                 1   \n",
       "2  ...                  3                        2                 0   \n",
       "3  ...                  3                        3                 0   \n",
       "4  ...                  3                        4                 1   \n",
       "\n",
       "   TotalWorkingYears  TrainingTimesLastYear WorkLifeBalance  YearsAtCompany  \\\n",
       "0                  8                      0               1               6   \n",
       "1                 10                      3               3              10   \n",
       "2                  7                      3               3               0   \n",
       "3                  8                      3               3               8   \n",
       "4                  6                      3               3               2   \n",
       "\n",
       "  YearsInCurrentRole  YearsSinceLastPromotion  YearsWithCurrManager  \n",
       "0                  4                        0                     5  \n",
       "1                  7                        1                     7  \n",
       "2                  0                        0                     0  \n",
       "3                  7                        3                     0  \n",
       "4                  2                        2                     2  \n",
       "\n",
       "[5 rows x 33 columns]"
      ]
     },
     "execution_count": 2,
     "metadata": {},
     "output_type": "execute_result"
    }
   ],
   "source": [
    "df=pd.read_csv(\"attrition.csv\")\n",
    "df.head()"
   ]
  },
  {
   "cell_type": "code",
   "execution_count": 3,
   "metadata": {},
   "outputs": [
    {
     "name": "stdout",
     "output_type": "stream",
     "text": [
      "<class 'pandas.core.frame.DataFrame'>\n",
      "RangeIndex: 1470 entries, 0 to 1469\n",
      "Data columns (total 33 columns):\n",
      " #   Column                    Non-Null Count  Dtype \n",
      "---  ------                    --------------  ----- \n",
      " 0   Age                       1470 non-null   int64 \n",
      " 1   Attrition                 1470 non-null   object\n",
      " 2   BusinessTravel            1470 non-null   object\n",
      " 3   DailyRate                 1470 non-null   int64 \n",
      " 4   Department                1470 non-null   object\n",
      " 5   DistanceFromHome          1470 non-null   int64 \n",
      " 6   Education                 1470 non-null   int64 \n",
      " 7   EducationField            1470 non-null   object\n",
      " 8   EmployeeCount             1470 non-null   int64 \n",
      " 9   EmployeeNumber            1470 non-null   int64 \n",
      " 10  EnvironmentSatisfaction   1470 non-null   int64 \n",
      " 11  Gender                    1470 non-null   object\n",
      " 12  HourlyRate                1470 non-null   int64 \n",
      " 13  JobInvolvement            1470 non-null   int64 \n",
      " 14  JobLevel                  1470 non-null   int64 \n",
      " 15  JobRole                   1470 non-null   object\n",
      " 16  JobSatisfaction           1470 non-null   int64 \n",
      " 17  MaritalStatus             1470 non-null   object\n",
      " 18  MonthlyIncome             1470 non-null   int64 \n",
      " 19  MonthlyRate               1470 non-null   int64 \n",
      " 20  NumCompaniesWorked        1470 non-null   int64 \n",
      " 21  OverTime                  1470 non-null   object\n",
      " 22  PercentSalaryHike         1470 non-null   int64 \n",
      " 23  PerformanceRating         1470 non-null   int64 \n",
      " 24  RelationshipSatisfaction  1470 non-null   int64 \n",
      " 25  StockOptionLevel          1470 non-null   int64 \n",
      " 26  TotalWorkingYears         1470 non-null   int64 \n",
      " 27  TrainingTimesLastYear     1470 non-null   int64 \n",
      " 28  WorkLifeBalance           1470 non-null   int64 \n",
      " 29  YearsAtCompany            1470 non-null   int64 \n",
      " 30  YearsInCurrentRole        1470 non-null   int64 \n",
      " 31  YearsSinceLastPromotion   1470 non-null   int64 \n",
      " 32  YearsWithCurrManager      1470 non-null   int64 \n",
      "dtypes: int64(25), object(8)\n",
      "memory usage: 379.1+ KB\n"
     ]
    }
   ],
   "source": [
    "df.info()"
   ]
  },
  {
   "cell_type": "code",
   "execution_count": 4,
   "metadata": {},
   "outputs": [],
   "source": [
    "le=LabelEncoder()"
   ]
  },
  {
   "cell_type": "code",
   "execution_count": 5,
   "metadata": {},
   "outputs": [
    {
     "name": "stdout",
     "output_type": "stream",
     "text": [
      "-----------Attrition-----------\n",
      "['Yes' 'No']\n",
      "[1 0]\n",
      "-----------BusinessTravel-----------\n",
      "['Travel_Rarely' 'Travel_Frequently' 'Non-Travel']\n",
      "[2 1 0]\n",
      "-----------Department-----------\n",
      "['Sales' 'Research & Development' 'Human Resources']\n",
      "[2 1 0]\n",
      "-----------EducationField-----------\n",
      "['Life Sciences' 'Other' 'Medical' 'Marketing' 'Technical Degree'\n",
      " 'Human Resources']\n",
      "[1 4 3 2 5 0]\n",
      "-----------Gender-----------\n",
      "['Female' 'Male']\n",
      "[0 1]\n",
      "-----------JobRole-----------\n",
      "['Sales Executive' 'Research Scientist' 'Laboratory Technician'\n",
      " 'Manufacturing Director' 'Healthcare Representative' 'Manager'\n",
      " 'Sales Representative' 'Research Director' 'Human Resources']\n",
      "[7 6 2 4 0 3 8 5 1]\n",
      "-----------MaritalStatus-----------\n",
      "['Single' 'Married' 'Divorced']\n",
      "[2 1 0]\n",
      "-----------OverTime-----------\n",
      "['Yes' 'No']\n",
      "[1 0]\n"
     ]
    }
   ],
   "source": [
    "cols=df.select_dtypes(include=[\"object\"]).columns.tolist()\n",
    "for col in cols:\n",
    "    print(\"-----------\"+col+\"-----------\")\n",
    "    print(df[col].unique())\n",
    "    df[col]=le.fit_transform(df[col])\n",
    "    print(df[col].unique())"
   ]
  },
  {
   "cell_type": "code",
   "execution_count": 6,
   "metadata": {},
   "outputs": [
    {
     "name": "stdout",
     "output_type": "stream",
     "text": [
      "Age: 36.923809523809524\n",
      "Attrition: 0.16122448979591836\n",
      "BusinessTravel: 1.607482993197279\n",
      "DailyRate: 802.4857142857143\n",
      "Department: 1.260544217687075\n",
      "DistanceFromHome: 9.19251700680272\n",
      "Education: 2.912925170068027\n",
      "EducationField: 2.2476190476190476\n",
      "EmployeeCount: 1.0\n",
      "EmployeeNumber: 1024.865306122449\n",
      "EnvironmentSatisfaction: 2.721768707482993\n",
      "Gender: 0.6\n",
      "HourlyRate: 65.89115646258503\n",
      "JobInvolvement: 2.7299319727891156\n",
      "JobLevel: 2.0639455782312925\n",
      "JobRole: 4.458503401360544\n",
      "JobSatisfaction: 2.7285714285714286\n",
      "MaritalStatus: 1.0972789115646258\n",
      "MonthlyIncome: 6502.931292517007\n",
      "MonthlyRate: 14313.103401360544\n",
      "NumCompaniesWorked: 2.6931972789115646\n",
      "OverTime: 0.2829931972789116\n",
      "PercentSalaryHike: 15.209523809523809\n",
      "PerformanceRating: 3.1537414965986397\n",
      "RelationshipSatisfaction: 2.7122448979591836\n",
      "StockOptionLevel: 0.7938775510204081\n",
      "TotalWorkingYears: 11.279591836734694\n",
      "TrainingTimesLastYear: 2.7993197278911564\n",
      "WorkLifeBalance: 2.7612244897959184\n",
      "YearsAtCompany: 7.0081632653061225\n",
      "YearsInCurrentRole: 4.229251700680272\n",
      "YearsSinceLastPromotion: 2.1877551020408164\n",
      "YearsWithCurrManager: 4.12312925170068\n"
     ]
    }
   ],
   "source": [
    "cols=df.columns.tolist()\n",
    "for col in cols:\n",
    "    print(col+\": \"+str(np.mean(df[col])))"
   ]
  },
  {
   "cell_type": "markdown",
   "metadata": {},
   "source": [
    "- DailyRate, EmployeeNumber, MonthlyIncome, MonthlyRate should be scaled\n",
    "- but lets check correlation first"
   ]
  },
  {
   "cell_type": "code",
   "execution_count": 7,
   "metadata": {},
   "outputs": [
    {
     "data": {
      "text/plain": [
       "TotalWorkingYears          -0.171063\n",
       "JobLevel                   -0.169105\n",
       "YearsInCurrentRole         -0.160545\n",
       "MonthlyIncome              -0.159840\n",
       "Age                        -0.159205\n",
       "YearsWithCurrManager       -0.156199\n",
       "StockOptionLevel           -0.137145\n",
       "YearsAtCompany             -0.134392\n",
       "JobInvolvement             -0.130016\n",
       "JobSatisfaction            -0.103481\n",
       "EnvironmentSatisfaction    -0.103369\n",
       "WorkLifeBalance            -0.063939\n",
       "TrainingTimesLastYear      -0.059478\n",
       "DailyRate                  -0.056652\n",
       "RelationshipSatisfaction   -0.045872\n",
       "YearsSinceLastPromotion    -0.033019\n",
       "Education                  -0.031373\n",
       "PercentSalaryHike          -0.013478\n",
       "EmployeeNumber             -0.010577\n",
       "HourlyRate                 -0.006846\n",
       "BusinessTravel              0.000074\n",
       "PerformanceRating           0.002889\n",
       "MonthlyRate                 0.015170\n",
       "EducationField              0.026846\n",
       "Gender                      0.029453\n",
       "NumCompaniesWorked          0.043494\n",
       "Department                  0.063991\n",
       "JobRole                     0.067151\n",
       "DistanceFromHome            0.077924\n",
       "MaritalStatus               0.162070\n",
       "OverTime                    0.246118\n",
       "Attrition                   1.000000\n",
       "EmployeeCount                    NaN\n",
       "Name: Attrition, dtype: float64"
      ]
     },
     "execution_count": 7,
     "metadata": {},
     "output_type": "execute_result"
    }
   ],
   "source": [
    "df.corr().Attrition.sort_values()"
   ]
  },
  {
   "cell_type": "markdown",
   "metadata": {},
   "source": [
    "Among 4 columns only monthly income has relatively higher correlation with attrition\n",
    "so we can just ignore other 3 columns(DailyRate, EmployeeNumber, MonthlyRate) and need not to scale\n",
    "##### So we will proceed in following steps\n",
    "1. So we will try with all columns first\n",
    "2. then we will scale those 4 columns and try with all columns\n",
    "3. then we will try with columns having corr value >= 0.15"
   ]
  },
  {
   "cell_type": "code",
   "execution_count": 8,
   "metadata": {},
   "outputs": [],
   "source": [
    "from sklearn.tree import DecisionTreeClassifier\n",
    "from sklearn.naive_bayes import GaussianNB\n",
    "from sklearn.linear_model import LogisticRegression\n",
    "from sklearn.neighbors import KNeighborsClassifier\n",
    "from sklearn.metrics import accuracy_score\n",
    "from sklearn.ensemble import VotingClassifier\n",
    "from sklearn.model_selection import train_test_split"
   ]
  },
  {
   "cell_type": "markdown",
   "metadata": {},
   "source": [
    "### 1. With all columns without scaling"
   ]
  },
  {
   "cell_type": "code",
   "execution_count": 9,
   "metadata": {},
   "outputs": [],
   "source": [
    "Y=df['Attrition']\n",
    "X=df.drop(['Attrition'],axis=1)"
   ]
  },
  {
   "cell_type": "code",
   "execution_count": 10,
   "metadata": {},
   "outputs": [],
   "source": [
    "x_train,x_test,y_train,y_test=train_test_split(X,Y,test_size=0.2,random_state=42)"
   ]
  },
  {
   "cell_type": "code",
   "execution_count": 11,
   "metadata": {},
   "outputs": [
    {
     "name": "stdout",
     "output_type": "stream",
     "text": [
      "max_depth= 1 , n_neighbors= 18\n"
     ]
    }
   ],
   "source": [
    "acc_list_knn=[]\n",
    "acc_list_dt=[]\n",
    "for i in range(1,40):\n",
    "    model_dt=DecisionTreeClassifier(max_depth=i)\n",
    "    model_knn=KNeighborsClassifier(n_neighbors=i)\n",
    "    model_dt.fit(x_train,y_train)\n",
    "    model_knn.fit(x_train,y_train)\n",
    "    y_pred_dt=model_dt.predict(x_test)\n",
    "    y_pred_knn=model_knn.predict(x_test)\n",
    "    acc_list_dt.append(accuracy_score(y_test,y_pred_dt))\n",
    "    acc_list_knn.append(accuracy_score(y_test,y_pred_knn))\n",
    "depth=np.argmax(acc_list_dt)+1\n",
    "k_value=np.argmax(acc_list_knn)+1\n",
    "print('max_depth=',depth,\",\",'n_neighbors=',k_value)"
   ]
  },
  {
   "cell_type": "code",
   "execution_count": 12,
   "metadata": {},
   "outputs": [],
   "source": [
    "dt=DecisionTreeClassifier(max_depth=depth)\n",
    "nb=GaussianNB()\n",
    "knn=KNeighborsClassifier(n_neighbors=k_value)\n",
    "lr=LogisticRegression()"
   ]
  },
  {
   "cell_type": "code",
   "execution_count": 13,
   "metadata": {},
   "outputs": [
    {
     "ename": "NameError",
     "evalue": "name 'y_pred' is not defined",
     "output_type": "error",
     "traceback": [
      "\u001b[1;31m---------------------------------------------------------------------------\u001b[0m",
      "\u001b[1;31mNameError\u001b[0m                                 Traceback (most recent call last)",
      "\u001b[1;32m<ipython-input-13-75bb6cc799d0>\u001b[0m in \u001b[0;36m<module>\u001b[1;34m\u001b[0m\n\u001b[0;32m      4\u001b[0m     \u001b[0my_pred_test\u001b[0m\u001b[1;33m=\u001b[0m\u001b[0mmodel\u001b[0m\u001b[1;33m.\u001b[0m\u001b[0mpredict\u001b[0m\u001b[1;33m(\u001b[0m\u001b[0mx_test\u001b[0m\u001b[1;33m)\u001b[0m\u001b[1;33m\u001b[0m\u001b[1;33m\u001b[0m\u001b[0m\n\u001b[0;32m      5\u001b[0m     \u001b[0my_pred_train\u001b[0m\u001b[1;33m=\u001b[0m\u001b[0mmodel\u001b[0m\u001b[1;33m.\u001b[0m\u001b[0mpredict\u001b[0m\u001b[1;33m(\u001b[0m\u001b[0mx_train\u001b[0m\u001b[1;33m)\u001b[0m\u001b[1;33m\u001b[0m\u001b[1;33m\u001b[0m\u001b[0m\n\u001b[1;32m----> 6\u001b[1;33m     \u001b[0mprint\u001b[0m\u001b[1;33m(\u001b[0m\u001b[0mmodel\u001b[0m\u001b[1;33m.\u001b[0m\u001b[0m__class__\u001b[0m\u001b[1;33m.\u001b[0m\u001b[0m__name__\u001b[0m\u001b[1;33m,\u001b[0m\u001b[1;34m\": test= \"\u001b[0m\u001b[1;33m,\u001b[0m\u001b[0maccuracy_score\u001b[0m\u001b[1;33m(\u001b[0m\u001b[0my_test\u001b[0m\u001b[1;33m,\u001b[0m\u001b[0my_pred\u001b[0m\u001b[1;33m)\u001b[0m\u001b[1;33m,\u001b[0m\u001b[1;34m\", train= \"\u001b[0m\u001b[1;33m,\u001b[0m\u001b[0maccuracy_score\u001b[0m\u001b[1;33m(\u001b[0m\u001b[0my_train\u001b[0m\u001b[1;33m,\u001b[0m\u001b[0my_pred_train\u001b[0m\u001b[1;33m)\u001b[0m\u001b[1;33m)\u001b[0m\u001b[1;33m\u001b[0m\u001b[1;33m\u001b[0m\u001b[0m\n\u001b[0m",
      "\u001b[1;31mNameError\u001b[0m: name 'y_pred' is not defined"
     ]
    }
   ],
   "source": [
    "voting_classifier=VotingClassifier(estimators=[('lr',lr),('dt',dt),('knn',knn),('nb',nb)],voting='hard')\n",
    "for model in (dt,nb,knn,lr,voting_classifier):\n",
    "    model.fit(x_train,y_train);\n",
    "    y_pred_test=model.predict(x_test)\n",
    "    y_pred_train=model.predict(x_train)\n",
    "    print(model.__class__.__name__,\": test= \",accuracy_score(y_test,y_pred),\", train= \",accuracy_score(y_train,y_pred_train))"
   ]
  },
  {
   "cell_type": "markdown",
   "metadata": {},
   "source": [
    "### 2. with all columns and with scaling "
   ]
  },
  {
   "cell_type": "code",
   "execution_count": null,
   "metadata": {},
   "outputs": [],
   "source": [
    "from sklearn.preprocessing import MinMaxScaler"
   ]
  },
  {
   "cell_type": "code",
   "execution_count": null,
   "metadata": {},
   "outputs": [],
   "source": [
    "scalar=MinMaxScaler()\n",
    "df[['DailyRate', 'EmployeeNumber', 'MonthlyIncome', 'MonthlyRate']]=scalar.fit_transform(df[['DailyRate', 'EmployeeNumber', 'MonthlyIncome', 'MonthlyRate']])"
   ]
  },
  {
   "cell_type": "markdown",
   "metadata": {},
   "source": [
    "lets check mean values of each columns again"
   ]
  },
  {
   "cell_type": "code",
   "execution_count": null,
   "metadata": {},
   "outputs": [],
   "source": [
    "cols=df.columns.tolist()\n",
    "for col in cols:\n",
    "    print(col+\": \"+str(np.mean(df[col])))"
   ]
  },
  {
   "cell_type": "markdown",
   "metadata": {},
   "source": [
    "- hence all the 4 columns values are scaled down\n",
    "- lets check correlation again"
   ]
  },
  {
   "cell_type": "code",
   "execution_count": null,
   "metadata": {},
   "outputs": [],
   "source": [
    "df.corr().Attrition.sort_values()"
   ]
  },
  {
   "cell_type": "markdown",
   "metadata": {},
   "source": [
    "no significant change in corr value, thats good (just distribution changed but corr remains same)"
   ]
  },
  {
   "cell_type": "code",
   "execution_count": null,
   "metadata": {},
   "outputs": [],
   "source": [
    "Y=df['Attrition']\n",
    "X=df.drop(['Attrition'],axis=1)"
   ]
  },
  {
   "cell_type": "code",
   "execution_count": null,
   "metadata": {},
   "outputs": [],
   "source": [
    "x_train,x_test,y_train,y_test=train_test_split(X,Y,test_size=0.2,random_state=42)"
   ]
  },
  {
   "cell_type": "code",
   "execution_count": null,
   "metadata": {},
   "outputs": [],
   "source": [
    "acc_list_knn=[]\n",
    "acc_list_dt=[]\n",
    "for i in range(1,40):\n",
    "    model_dt=DecisionTreeClassifier(max_depth=i)\n",
    "    model_knn=KNeighborsClassifier(n_neighbors=i)\n",
    "    model_dt.fit(x_train,y_train)\n",
    "    model_knn.fit(x_train,y_train)\n",
    "    y_pred_dt=model_dt.predict(x_test)\n",
    "    y_pred_knn=model_knn.predict(x_test)\n",
    "    acc_list_dt.append(accuracy_score(y_test,y_pred_dt))\n",
    "    acc_list_knn.append(accuracy_score(y_test,y_pred_knn))\n",
    "depth=np.argmax(acc_list_dt)+1\n",
    "k_value=np.argmax(acc_list_knn)+1\n",
    "print('max_depth=',depth,\",\",'n_neighbors=',k_value)"
   ]
  },
  {
   "cell_type": "code",
   "execution_count": null,
   "metadata": {},
   "outputs": [],
   "source": [
    "dt=DecisionTreeClassifier(max_depth=depth)\n",
    "nb=GaussianNB()\n",
    "knn=KNeighborsClassifier(n_neighbors=k_value)\n",
    "lr=LogisticRegression()"
   ]
  },
  {
   "cell_type": "code",
   "execution_count": null,
   "metadata": {},
   "outputs": [],
   "source": [
    "voting_classifier=VotingClassifier(estimators=[('lr',lr),('dt',dt),('knn',knn),('nb',nb)],voting='hard')\n",
    "for model in (dt,nb,knn,lr,voting_classifier):\n",
    "    model.fit(x_train,y_train);\n",
    "    y_pred=model.predict(x_test)\n",
    "    y_pred_train=model.predict(x_train)\n",
    "    print(model.__class__.__name__,\": test= \",accuracy_score(y_test,y_pred),\", train= \",accuracy_score(y_train,y_pred_train))"
   ]
  },
  {
   "cell_type": "markdown",
   "metadata": {},
   "source": [
    "- We can see their is some improvement in the accuracy of naive bayes model, knn model, logistic model and of overall voting classifier\n",
    "- Also after changing the distribution (i.e by scaling the data) the overfitting problem of naive bayes is solved"
   ]
  },
  {
   "cell_type": "markdown",
   "metadata": {},
   "source": [
    "### 3.  Now with columns having corr value >= 0.15"
   ]
  },
  {
   "cell_type": "code",
   "execution_count": null,
   "metadata": {},
   "outputs": [],
   "source": [
    "Y=df['Attrition']\n",
    "X=df[[\"TotalWorkingYears\" ,\"JobLevel\", \"YearsInCurrentRole\", \"MonthlyIncome\", \"Age\", \"YearsWithCurrManager\",\"MaritalStatus\", \"OverTime\"]]"
   ]
  },
  {
   "cell_type": "code",
   "execution_count": null,
   "metadata": {},
   "outputs": [],
   "source": [
    "x_train,x_test,y_train,y_test=train_test_split(X,Y,test_size=0.2,random_state=42)"
   ]
  },
  {
   "cell_type": "code",
   "execution_count": null,
   "metadata": {},
   "outputs": [],
   "source": [
    "acc_list_knn=[]\n",
    "acc_list_dt=[]\n",
    "for i in range(1,40):\n",
    "    model_dt=DecisionTreeClassifier(max_depth=i)\n",
    "    model_knn=KNeighborsClassifier(n_neighbors=i)\n",
    "    model_dt.fit(x_train,y_train)\n",
    "    model_knn.fit(x_train,y_train)\n",
    "    y_pred_dt=model_dt.predict(x_test)\n",
    "    y_pred_knn=model_knn.predict(x_test)\n",
    "    acc_list_dt.append(accuracy_score(y_test,y_pred_dt))\n",
    "    acc_list_knn.append(accuracy_score(y_test,y_pred_knn))\n",
    "depth=np.argmax(acc_list_dt)+1\n",
    "k_value=np.argmax(acc_list_knn)+1\n",
    "print('max_depth=',depth,\",\",'n_neighbors=',k_value)"
   ]
  },
  {
   "cell_type": "code",
   "execution_count": null,
   "metadata": {},
   "outputs": [],
   "source": [
    "dt=DecisionTreeClassifier(max_depth=depth)\n",
    "nb=GaussianNB()\n",
    "knn=KNeighborsClassifier(n_neighbors=k_value)\n",
    "lr=LogisticRegression()"
   ]
  },
  {
   "cell_type": "code",
   "execution_count": null,
   "metadata": {},
   "outputs": [],
   "source": [
    "voting_classifier=VotingClassifier(estimators=[('lr',lr),('dt',dt),('knn',knn),('nb',nb)],voting='hard')\n",
    "for model in (dt,nb,knn,lr,voting_classifier):\n",
    "    model.fit(x_train,y_train);\n",
    "    y_pred=model.predict(x_test)\n",
    "    y_pred_train=model.predict(x_train)\n",
    "    print(model.__class__.__name__,\": test= \",accuracy_score(y_test,y_pred),\", train= \",accuracy_score(y_train,y_pred_train))"
   ]
  },
  {
   "cell_type": "markdown",
   "metadata": {},
   "source": [
    "We can see a slight drop in accuracy of Logistic model and significant decrease of accuracy in naive bayes model, but we can observe that overall accuracy i.e given by voting classifier is unchanged, hence we can use less columns also to get same accuracy which decreases significant amount of computation time"
   ]
  }
 ],
 "metadata": {
  "kernelspec": {
   "display_name": "Python 3",
   "language": "python",
   "name": "python3"
  },
  "language_info": {
   "codemirror_mode": {
    "name": "ipython",
    "version": 3
   },
   "file_extension": ".py",
   "mimetype": "text/x-python",
   "name": "python",
   "nbconvert_exporter": "python",
   "pygments_lexer": "ipython3",
   "version": "3.7.1"
  }
 },
 "nbformat": 4,
 "nbformat_minor": 4
}
