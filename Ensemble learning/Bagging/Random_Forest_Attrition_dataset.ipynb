{
 "cells": [
  {
   "cell_type": "code",
   "execution_count": 94,
   "metadata": {},
   "outputs": [],
   "source": [
    "import pandas as pd\n",
    "from sklearn.preprocessing import LabelEncoder\n",
    "import numpy as np"
   ]
  },
  {
   "cell_type": "code",
   "execution_count": 95,
   "metadata": {},
   "outputs": [
    {
     "data": {
      "text/html": [
       "<div>\n",
       "<style scoped>\n",
       "    .dataframe tbody tr th:only-of-type {\n",
       "        vertical-align: middle;\n",
       "    }\n",
       "\n",
       "    .dataframe tbody tr th {\n",
       "        vertical-align: top;\n",
       "    }\n",
       "\n",
       "    .dataframe thead th {\n",
       "        text-align: right;\n",
       "    }\n",
       "</style>\n",
       "<table border=\"1\" class=\"dataframe\">\n",
       "  <thead>\n",
       "    <tr style=\"text-align: right;\">\n",
       "      <th></th>\n",
       "      <th>Age</th>\n",
       "      <th>Attrition</th>\n",
       "      <th>BusinessTravel</th>\n",
       "      <th>DailyRate</th>\n",
       "      <th>Department</th>\n",
       "      <th>DistanceFromHome</th>\n",
       "      <th>Education</th>\n",
       "      <th>EducationField</th>\n",
       "      <th>EmployeeCount</th>\n",
       "      <th>EmployeeNumber</th>\n",
       "      <th>...</th>\n",
       "      <th>PerformanceRating</th>\n",
       "      <th>RelationshipSatisfaction</th>\n",
       "      <th>StockOptionLevel</th>\n",
       "      <th>TotalWorkingYears</th>\n",
       "      <th>TrainingTimesLastYear</th>\n",
       "      <th>WorkLifeBalance</th>\n",
       "      <th>YearsAtCompany</th>\n",
       "      <th>YearsInCurrentRole</th>\n",
       "      <th>YearsSinceLastPromotion</th>\n",
       "      <th>YearsWithCurrManager</th>\n",
       "    </tr>\n",
       "  </thead>\n",
       "  <tbody>\n",
       "    <tr>\n",
       "      <th>0</th>\n",
       "      <td>41</td>\n",
       "      <td>Yes</td>\n",
       "      <td>Travel_Rarely</td>\n",
       "      <td>1102</td>\n",
       "      <td>Sales</td>\n",
       "      <td>1</td>\n",
       "      <td>2</td>\n",
       "      <td>Life Sciences</td>\n",
       "      <td>1</td>\n",
       "      <td>1</td>\n",
       "      <td>...</td>\n",
       "      <td>3</td>\n",
       "      <td>1</td>\n",
       "      <td>0</td>\n",
       "      <td>8</td>\n",
       "      <td>0</td>\n",
       "      <td>1</td>\n",
       "      <td>6</td>\n",
       "      <td>4</td>\n",
       "      <td>0</td>\n",
       "      <td>5</td>\n",
       "    </tr>\n",
       "    <tr>\n",
       "      <th>1</th>\n",
       "      <td>49</td>\n",
       "      <td>No</td>\n",
       "      <td>Travel_Frequently</td>\n",
       "      <td>279</td>\n",
       "      <td>Research &amp; Development</td>\n",
       "      <td>8</td>\n",
       "      <td>1</td>\n",
       "      <td>Life Sciences</td>\n",
       "      <td>1</td>\n",
       "      <td>2</td>\n",
       "      <td>...</td>\n",
       "      <td>4</td>\n",
       "      <td>4</td>\n",
       "      <td>1</td>\n",
       "      <td>10</td>\n",
       "      <td>3</td>\n",
       "      <td>3</td>\n",
       "      <td>10</td>\n",
       "      <td>7</td>\n",
       "      <td>1</td>\n",
       "      <td>7</td>\n",
       "    </tr>\n",
       "    <tr>\n",
       "      <th>2</th>\n",
       "      <td>37</td>\n",
       "      <td>Yes</td>\n",
       "      <td>Travel_Rarely</td>\n",
       "      <td>1373</td>\n",
       "      <td>Research &amp; Development</td>\n",
       "      <td>2</td>\n",
       "      <td>2</td>\n",
       "      <td>Other</td>\n",
       "      <td>1</td>\n",
       "      <td>4</td>\n",
       "      <td>...</td>\n",
       "      <td>3</td>\n",
       "      <td>2</td>\n",
       "      <td>0</td>\n",
       "      <td>7</td>\n",
       "      <td>3</td>\n",
       "      <td>3</td>\n",
       "      <td>0</td>\n",
       "      <td>0</td>\n",
       "      <td>0</td>\n",
       "      <td>0</td>\n",
       "    </tr>\n",
       "    <tr>\n",
       "      <th>3</th>\n",
       "      <td>33</td>\n",
       "      <td>No</td>\n",
       "      <td>Travel_Frequently</td>\n",
       "      <td>1392</td>\n",
       "      <td>Research &amp; Development</td>\n",
       "      <td>3</td>\n",
       "      <td>4</td>\n",
       "      <td>Life Sciences</td>\n",
       "      <td>1</td>\n",
       "      <td>5</td>\n",
       "      <td>...</td>\n",
       "      <td>3</td>\n",
       "      <td>3</td>\n",
       "      <td>0</td>\n",
       "      <td>8</td>\n",
       "      <td>3</td>\n",
       "      <td>3</td>\n",
       "      <td>8</td>\n",
       "      <td>7</td>\n",
       "      <td>3</td>\n",
       "      <td>0</td>\n",
       "    </tr>\n",
       "    <tr>\n",
       "      <th>4</th>\n",
       "      <td>27</td>\n",
       "      <td>No</td>\n",
       "      <td>Travel_Rarely</td>\n",
       "      <td>591</td>\n",
       "      <td>Research &amp; Development</td>\n",
       "      <td>2</td>\n",
       "      <td>1</td>\n",
       "      <td>Medical</td>\n",
       "      <td>1</td>\n",
       "      <td>7</td>\n",
       "      <td>...</td>\n",
       "      <td>3</td>\n",
       "      <td>4</td>\n",
       "      <td>1</td>\n",
       "      <td>6</td>\n",
       "      <td>3</td>\n",
       "      <td>3</td>\n",
       "      <td>2</td>\n",
       "      <td>2</td>\n",
       "      <td>2</td>\n",
       "      <td>2</td>\n",
       "    </tr>\n",
       "  </tbody>\n",
       "</table>\n",
       "<p>5 rows × 33 columns</p>\n",
       "</div>"
      ],
      "text/plain": [
       "   Age Attrition     BusinessTravel  DailyRate              Department  \\\n",
       "0   41       Yes      Travel_Rarely       1102                   Sales   \n",
       "1   49        No  Travel_Frequently        279  Research & Development   \n",
       "2   37       Yes      Travel_Rarely       1373  Research & Development   \n",
       "3   33        No  Travel_Frequently       1392  Research & Development   \n",
       "4   27        No      Travel_Rarely        591  Research & Development   \n",
       "\n",
       "   DistanceFromHome  Education EducationField  EmployeeCount  EmployeeNumber  \\\n",
       "0                 1          2  Life Sciences              1               1   \n",
       "1                 8          1  Life Sciences              1               2   \n",
       "2                 2          2          Other              1               4   \n",
       "3                 3          4  Life Sciences              1               5   \n",
       "4                 2          1        Medical              1               7   \n",
       "\n",
       "   ...  PerformanceRating RelationshipSatisfaction  StockOptionLevel  \\\n",
       "0  ...                  3                        1                 0   \n",
       "1  ...                  4                        4                 1   \n",
       "2  ...                  3                        2                 0   \n",
       "3  ...                  3                        3                 0   \n",
       "4  ...                  3                        4                 1   \n",
       "\n",
       "   TotalWorkingYears  TrainingTimesLastYear WorkLifeBalance  YearsAtCompany  \\\n",
       "0                  8                      0               1               6   \n",
       "1                 10                      3               3              10   \n",
       "2                  7                      3               3               0   \n",
       "3                  8                      3               3               8   \n",
       "4                  6                      3               3               2   \n",
       "\n",
       "  YearsInCurrentRole  YearsSinceLastPromotion  YearsWithCurrManager  \n",
       "0                  4                        0                     5  \n",
       "1                  7                        1                     7  \n",
       "2                  0                        0                     0  \n",
       "3                  7                        3                     0  \n",
       "4                  2                        2                     2  \n",
       "\n",
       "[5 rows x 33 columns]"
      ]
     },
     "execution_count": 95,
     "metadata": {},
     "output_type": "execute_result"
    }
   ],
   "source": [
    "df=pd.read_csv(\"attrition.csv\")\n",
    "df.head()"
   ]
  },
  {
   "cell_type": "code",
   "execution_count": 96,
   "metadata": {},
   "outputs": [
    {
     "name": "stdout",
     "output_type": "stream",
     "text": [
      "<class 'pandas.core.frame.DataFrame'>\n",
      "RangeIndex: 1470 entries, 0 to 1469\n",
      "Data columns (total 33 columns):\n",
      " #   Column                    Non-Null Count  Dtype \n",
      "---  ------                    --------------  ----- \n",
      " 0   Age                       1470 non-null   int64 \n",
      " 1   Attrition                 1470 non-null   object\n",
      " 2   BusinessTravel            1470 non-null   object\n",
      " 3   DailyRate                 1470 non-null   int64 \n",
      " 4   Department                1470 non-null   object\n",
      " 5   DistanceFromHome          1470 non-null   int64 \n",
      " 6   Education                 1470 non-null   int64 \n",
      " 7   EducationField            1470 non-null   object\n",
      " 8   EmployeeCount             1470 non-null   int64 \n",
      " 9   EmployeeNumber            1470 non-null   int64 \n",
      " 10  EnvironmentSatisfaction   1470 non-null   int64 \n",
      " 11  Gender                    1470 non-null   object\n",
      " 12  HourlyRate                1470 non-null   int64 \n",
      " 13  JobInvolvement            1470 non-null   int64 \n",
      " 14  JobLevel                  1470 non-null   int64 \n",
      " 15  JobRole                   1470 non-null   object\n",
      " 16  JobSatisfaction           1470 non-null   int64 \n",
      " 17  MaritalStatus             1470 non-null   object\n",
      " 18  MonthlyIncome             1470 non-null   int64 \n",
      " 19  MonthlyRate               1470 non-null   int64 \n",
      " 20  NumCompaniesWorked        1470 non-null   int64 \n",
      " 21  OverTime                  1470 non-null   object\n",
      " 22  PercentSalaryHike         1470 non-null   int64 \n",
      " 23  PerformanceRating         1470 non-null   int64 \n",
      " 24  RelationshipSatisfaction  1470 non-null   int64 \n",
      " 25  StockOptionLevel          1470 non-null   int64 \n",
      " 26  TotalWorkingYears         1470 non-null   int64 \n",
      " 27  TrainingTimesLastYear     1470 non-null   int64 \n",
      " 28  WorkLifeBalance           1470 non-null   int64 \n",
      " 29  YearsAtCompany            1470 non-null   int64 \n",
      " 30  YearsInCurrentRole        1470 non-null   int64 \n",
      " 31  YearsSinceLastPromotion   1470 non-null   int64 \n",
      " 32  YearsWithCurrManager      1470 non-null   int64 \n",
      "dtypes: int64(25), object(8)\n",
      "memory usage: 379.1+ KB\n"
     ]
    }
   ],
   "source": [
    "df.info()"
   ]
  },
  {
   "cell_type": "code",
   "execution_count": 97,
   "metadata": {},
   "outputs": [],
   "source": [
    "le=LabelEncoder()"
   ]
  },
  {
   "cell_type": "code",
   "execution_count": 98,
   "metadata": {},
   "outputs": [
    {
     "name": "stdout",
     "output_type": "stream",
     "text": [
      "-----------Attrition-----------\n",
      "['Yes' 'No']\n",
      "[1 0]\n",
      "-----------BusinessTravel-----------\n",
      "['Travel_Rarely' 'Travel_Frequently' 'Non-Travel']\n",
      "[2 1 0]\n",
      "-----------Department-----------\n",
      "['Sales' 'Research & Development' 'Human Resources']\n",
      "[2 1 0]\n",
      "-----------EducationField-----------\n",
      "['Life Sciences' 'Other' 'Medical' 'Marketing' 'Technical Degree'\n",
      " 'Human Resources']\n",
      "[1 4 3 2 5 0]\n",
      "-----------Gender-----------\n",
      "['Female' 'Male']\n",
      "[0 1]\n",
      "-----------JobRole-----------\n",
      "['Sales Executive' 'Research Scientist' 'Laboratory Technician'\n",
      " 'Manufacturing Director' 'Healthcare Representative' 'Manager'\n",
      " 'Sales Representative' 'Research Director' 'Human Resources']\n",
      "[7 6 2 4 0 3 8 5 1]\n",
      "-----------MaritalStatus-----------\n",
      "['Single' 'Married' 'Divorced']\n",
      "[2 1 0]\n",
      "-----------OverTime-----------\n",
      "['Yes' 'No']\n",
      "[1 0]\n"
     ]
    }
   ],
   "source": [
    "cols=df.select_dtypes(include=[\"object\"]).columns.tolist()\n",
    "for col in cols:\n",
    "    print(\"-----------\"+col+\"-----------\")\n",
    "    print(df[col].unique())\n",
    "    df[col]=le.fit_transform(df[col])\n",
    "    print(df[col].unique())"
   ]
  },
  {
   "cell_type": "code",
   "execution_count": 99,
   "metadata": {},
   "outputs": [
    {
     "name": "stdout",
     "output_type": "stream",
     "text": [
      "Age: 36.923809523809524\n",
      "Attrition: 0.16122448979591836\n",
      "BusinessTravel: 1.607482993197279\n",
      "DailyRate: 802.4857142857143\n",
      "Department: 1.260544217687075\n",
      "DistanceFromHome: 9.19251700680272\n",
      "Education: 2.912925170068027\n",
      "EducationField: 2.2476190476190476\n",
      "EmployeeCount: 1.0\n",
      "EmployeeNumber: 1024.865306122449\n",
      "EnvironmentSatisfaction: 2.721768707482993\n",
      "Gender: 0.6\n",
      "HourlyRate: 65.89115646258503\n",
      "JobInvolvement: 2.7299319727891156\n",
      "JobLevel: 2.0639455782312925\n",
      "JobRole: 4.458503401360544\n",
      "JobSatisfaction: 2.7285714285714286\n",
      "MaritalStatus: 1.0972789115646258\n",
      "MonthlyIncome: 6502.931292517007\n",
      "MonthlyRate: 14313.103401360544\n",
      "NumCompaniesWorked: 2.6931972789115646\n",
      "OverTime: 0.2829931972789116\n",
      "PercentSalaryHike: 15.209523809523809\n",
      "PerformanceRating: 3.1537414965986397\n",
      "RelationshipSatisfaction: 2.7122448979591836\n",
      "StockOptionLevel: 0.7938775510204081\n",
      "TotalWorkingYears: 11.279591836734694\n",
      "TrainingTimesLastYear: 2.7993197278911564\n",
      "WorkLifeBalance: 2.7612244897959184\n",
      "YearsAtCompany: 7.0081632653061225\n",
      "YearsInCurrentRole: 4.229251700680272\n",
      "YearsSinceLastPromotion: 2.1877551020408164\n",
      "YearsWithCurrManager: 4.12312925170068\n"
     ]
    }
   ],
   "source": [
    "cols=df.columns.tolist()\n",
    "for col in cols:\n",
    "    print(col+\": \"+str(np.mean(df[col])))"
   ]
  },
  {
   "cell_type": "markdown",
   "metadata": {},
   "source": [
    "- DailyRate, EmployeeNumber, MonthlyIncome, MonthlyRate should be scaled\n",
    "- but lets check correlation first"
   ]
  },
  {
   "cell_type": "code",
   "execution_count": 100,
   "metadata": {},
   "outputs": [
    {
     "data": {
      "text/plain": [
       "TotalWorkingYears          -0.171063\n",
       "JobLevel                   -0.169105\n",
       "YearsInCurrentRole         -0.160545\n",
       "MonthlyIncome              -0.159840\n",
       "Age                        -0.159205\n",
       "YearsWithCurrManager       -0.156199\n",
       "StockOptionLevel           -0.137145\n",
       "YearsAtCompany             -0.134392\n",
       "JobInvolvement             -0.130016\n",
       "JobSatisfaction            -0.103481\n",
       "EnvironmentSatisfaction    -0.103369\n",
       "WorkLifeBalance            -0.063939\n",
       "TrainingTimesLastYear      -0.059478\n",
       "DailyRate                  -0.056652\n",
       "RelationshipSatisfaction   -0.045872\n",
       "YearsSinceLastPromotion    -0.033019\n",
       "Education                  -0.031373\n",
       "PercentSalaryHike          -0.013478\n",
       "EmployeeNumber             -0.010577\n",
       "HourlyRate                 -0.006846\n",
       "BusinessTravel              0.000074\n",
       "PerformanceRating           0.002889\n",
       "MonthlyRate                 0.015170\n",
       "EducationField              0.026846\n",
       "Gender                      0.029453\n",
       "NumCompaniesWorked          0.043494\n",
       "Department                  0.063991\n",
       "JobRole                     0.067151\n",
       "DistanceFromHome            0.077924\n",
       "MaritalStatus               0.162070\n",
       "OverTime                    0.246118\n",
       "Attrition                   1.000000\n",
       "EmployeeCount                    NaN\n",
       "Name: Attrition, dtype: float64"
      ]
     },
     "execution_count": 100,
     "metadata": {},
     "output_type": "execute_result"
    }
   ],
   "source": [
    "df.corr().Attrition.sort_values()"
   ]
  },
  {
   "cell_type": "markdown",
   "metadata": {},
   "source": [
    "Among 4 columns only monthly income has relatively higher correlation with attrition\n",
    "so we can just ignore other 3 columns(DailyRate, EmployeeNumber, MonthlyRate) and need not to scale\n",
    "##### So we will proceed in following steps\n",
    "1. So we will try with all columns first\n",
    "2. then we will scale those 4 columns and try with all columns\n",
    "3. then we will try with columns having corr value >= 0.15"
   ]
  },
  {
   "cell_type": "code",
   "execution_count": 101,
   "metadata": {},
   "outputs": [],
   "source": [
    "from sklearn.metrics import accuracy_score\n",
    "from sklearn.ensemble import RandomForestClassifier\n",
    "from sklearn.model_selection import train_test_split"
   ]
  },
  {
   "cell_type": "markdown",
   "metadata": {},
   "source": [
    "### 1. With all columns without scaling"
   ]
  },
  {
   "cell_type": "code",
   "execution_count": 102,
   "metadata": {},
   "outputs": [],
   "source": [
    "Y=df['Attrition']\n",
    "X=df.drop(['Attrition'],axis=1)"
   ]
  },
  {
   "cell_type": "code",
   "execution_count": 103,
   "metadata": {},
   "outputs": [],
   "source": [
    "x_train,x_test,y_train,y_test=train_test_split(X,Y,test_size=0.2,random_state=42)"
   ]
  },
  {
   "cell_type": "code",
   "execution_count": 104,
   "metadata": {},
   "outputs": [
    {
     "name": "stdout",
     "output_type": "stream",
     "text": [
      "n_estimators= 5\n"
     ]
    }
   ],
   "source": [
    "acc_list_dt=[]\n",
    "for i in range(1,40):\n",
    "    model_dt=RandomForestClassifier(n_estimators=i,criterion=\"entropy\",bootstrap=True,max_depth=5,random_state=42)\n",
    "    model_dt.fit(x_train,y_train)\n",
    "    y_pred_dt=model_dt.predict(x_test)\n",
    "    acc_list_dt.append(accuracy_score(y_test,y_pred_dt))\n",
    "n=np.argmax(acc_list_dt)+1\n",
    "print('n_estimators=',n)"
   ]
  },
  {
   "cell_type": "code",
   "execution_count": 105,
   "metadata": {},
   "outputs": [
    {
     "name": "stdout",
     "output_type": "stream",
     "text": [
      "test= 0.8809523809523809 , train= 0.8690476190476191\n"
     ]
    }
   ],
   "source": [
    "model=RandomForestClassifier(n_estimators=n,criterion=\"entropy\",bootstrap=True,max_depth=5,random_state=42)\n",
    "model.fit(x_train,y_train);\n",
    "y_pred_test=model.predict(x_test)\n",
    "y_pred_train=model.predict(x_train)\n",
    "print(\"test=\",accuracy_score(y_test,y_pred_test),\", train=\",accuracy_score(y_train,y_pred_train))"
   ]
  },
  {
   "cell_type": "markdown",
   "metadata": {},
   "source": [
    "### 2. with all columns and with scaling "
   ]
  },
  {
   "cell_type": "code",
   "execution_count": 55,
   "metadata": {},
   "outputs": [],
   "source": [
    "from sklearn.preprocessing import MinMaxScaler"
   ]
  },
  {
   "cell_type": "code",
   "execution_count": 56,
   "metadata": {},
   "outputs": [],
   "source": [
    "scalar=MinMaxScaler()\n",
    "df[['DailyRate', 'EmployeeNumber', 'MonthlyIncome', 'MonthlyRate']]=scalar.fit_transform(df[['DailyRate', 'EmployeeNumber', 'MonthlyIncome', 'MonthlyRate']])"
   ]
  },
  {
   "cell_type": "markdown",
   "metadata": {},
   "source": [
    "lets check mean values of each columns again"
   ]
  },
  {
   "cell_type": "code",
   "execution_count": 57,
   "metadata": {},
   "outputs": [
    {
     "name": "stdout",
     "output_type": "stream",
     "text": [
      "Age: 36.923809523809524\n",
      "Attrition: 0.16122448979591836\n",
      "BusinessTravel: 1.607482993197279\n",
      "DailyRate: 0.5014214132324372\n",
      "Department: 1.260544217687075\n",
      "DistanceFromHome: 9.19251700680272\n",
      "Education: 2.912925170068027\n",
      "EducationField: 2.2476190476190476\n",
      "EmployeeCount: 1.0\n",
      "EmployeeNumber: 0.49533880315551526\n",
      "EnvironmentSatisfaction: 2.721768707482993\n",
      "Gender: 0.6\n",
      "HourlyRate: 65.89115646258503\n",
      "JobInvolvement: 2.7299319727891156\n",
      "JobLevel: 2.0639455782312925\n",
      "JobRole: 4.458503401360544\n",
      "JobSatisfaction: 2.7285714285714286\n",
      "MaritalStatus: 1.0972789115646258\n",
      "MonthlyIncome: 0.28930654515624077\n",
      "MonthlyRate: 0.4906285244473213\n",
      "NumCompaniesWorked: 2.6931972789115646\n",
      "OverTime: 0.2829931972789116\n",
      "PercentSalaryHike: 15.209523809523809\n",
      "PerformanceRating: 3.1537414965986397\n",
      "RelationshipSatisfaction: 2.7122448979591836\n",
      "StockOptionLevel: 0.7938775510204081\n",
      "TotalWorkingYears: 11.279591836734694\n",
      "TrainingTimesLastYear: 2.7993197278911564\n",
      "WorkLifeBalance: 2.7612244897959184\n",
      "YearsAtCompany: 7.0081632653061225\n",
      "YearsInCurrentRole: 4.229251700680272\n",
      "YearsSinceLastPromotion: 2.1877551020408164\n",
      "YearsWithCurrManager: 4.12312925170068\n"
     ]
    }
   ],
   "source": [
    "cols=df.columns.tolist()\n",
    "for col in cols:\n",
    "    print(col+\": \"+str(np.mean(df[col])))"
   ]
  },
  {
   "cell_type": "markdown",
   "metadata": {},
   "source": [
    "- hence all the 4 columns values are scaled down\n",
    "- lets check correlation again"
   ]
  },
  {
   "cell_type": "code",
   "execution_count": 58,
   "metadata": {},
   "outputs": [
    {
     "data": {
      "text/plain": [
       "TotalWorkingYears          -0.171063\n",
       "JobLevel                   -0.169105\n",
       "YearsInCurrentRole         -0.160545\n",
       "MonthlyIncome              -0.159840\n",
       "Age                        -0.159205\n",
       "YearsWithCurrManager       -0.156199\n",
       "StockOptionLevel           -0.137145\n",
       "YearsAtCompany             -0.134392\n",
       "JobInvolvement             -0.130016\n",
       "JobSatisfaction            -0.103481\n",
       "EnvironmentSatisfaction    -0.103369\n",
       "WorkLifeBalance            -0.063939\n",
       "TrainingTimesLastYear      -0.059478\n",
       "DailyRate                  -0.056652\n",
       "RelationshipSatisfaction   -0.045872\n",
       "YearsSinceLastPromotion    -0.033019\n",
       "Education                  -0.031373\n",
       "PercentSalaryHike          -0.013478\n",
       "EmployeeNumber             -0.010577\n",
       "HourlyRate                 -0.006846\n",
       "BusinessTravel              0.000074\n",
       "PerformanceRating           0.002889\n",
       "MonthlyRate                 0.015170\n",
       "EducationField              0.026846\n",
       "Gender                      0.029453\n",
       "NumCompaniesWorked          0.043494\n",
       "Department                  0.063991\n",
       "JobRole                     0.067151\n",
       "DistanceFromHome            0.077924\n",
       "MaritalStatus               0.162070\n",
       "OverTime                    0.246118\n",
       "Attrition                   1.000000\n",
       "EmployeeCount                    NaN\n",
       "Name: Attrition, dtype: float64"
      ]
     },
     "execution_count": 58,
     "metadata": {},
     "output_type": "execute_result"
    }
   ],
   "source": [
    "df.corr().Attrition.sort_values()"
   ]
  },
  {
   "cell_type": "markdown",
   "metadata": {},
   "source": [
    "no significant change in corr value, thats good (just distribution changed but corr remains same)"
   ]
  },
  {
   "cell_type": "code",
   "execution_count": 59,
   "metadata": {},
   "outputs": [],
   "source": [
    "Y=df['Attrition']\n",
    "X=df.drop(['Attrition'],axis=1)"
   ]
  },
  {
   "cell_type": "code",
   "execution_count": 60,
   "metadata": {},
   "outputs": [],
   "source": [
    "x_train,x_test,y_train,y_test=train_test_split(X,Y,test_size=0.2,random_state=42)"
   ]
  },
  {
   "cell_type": "code",
   "execution_count": 61,
   "metadata": {},
   "outputs": [
    {
     "name": "stdout",
     "output_type": "stream",
     "text": [
      "n_estimators= 5\n"
     ]
    }
   ],
   "source": [
    "acc_list_dt=[]\n",
    "for i in range(1,40):\n",
    "    model_dt=RandomForestClassifier(n_estimators=i,criterion=\"entropy\",bootstrap=True,max_depth=5,random_state=42)\n",
    "    model_dt.fit(x_train,y_train)\n",
    "    y_pred_dt=model_dt.predict(x_test)\n",
    "    acc_list_dt.append(accuracy_score(y_test,y_pred_dt))\n",
    "n=np.argmax(acc_list_dt)+1\n",
    "print('n_estimators=',n)"
   ]
  },
  {
   "cell_type": "code",
   "execution_count": 62,
   "metadata": {},
   "outputs": [
    {
     "name": "stdout",
     "output_type": "stream",
     "text": [
      "test= 0.8809523809523809 , train= 0.8690476190476191\n"
     ]
    }
   ],
   "source": [
    "model=RandomForestClassifier(n_estimators=n,criterion=\"entropy\",bootstrap=True,max_depth=5,random_state=42)\n",
    "model.fit(x_train,y_train);\n",
    "y_pred_test=model.predict(x_test)\n",
    "y_pred_train=model.predict(x_train)\n",
    "print(\"test=\",accuracy_score(y_test,y_pred_test),\", train=\",accuracy_score(y_train,y_pred_train))"
   ]
  },
  {
   "cell_type": "markdown",
   "metadata": {},
   "source": [
    "### 3.  Now with columns having corr value >= 0.15"
   ]
  },
  {
   "cell_type": "code",
   "execution_count": 63,
   "metadata": {},
   "outputs": [],
   "source": [
    "Y=df['Attrition']\n",
    "X=df[[\"TotalWorkingYears\" ,\"JobLevel\", \"YearsInCurrentRole\", \"MonthlyIncome\", \"Age\", \"YearsWithCurrManager\",\"MaritalStatus\", \"OverTime\"]]"
   ]
  },
  {
   "cell_type": "code",
   "execution_count": 64,
   "metadata": {},
   "outputs": [],
   "source": [
    "x_train,x_test,y_train,y_test=train_test_split(X,Y,test_size=0.2,random_state=42)"
   ]
  },
  {
   "cell_type": "code",
   "execution_count": 65,
   "metadata": {},
   "outputs": [
    {
     "name": "stdout",
     "output_type": "stream",
     "text": [
      "n_estimators= 2\n"
     ]
    }
   ],
   "source": [
    "acc_list_dt=[]\n",
    "for i in range(1,40):\n",
    "    model_dt=RandomForestClassifier(n_estimators=i,criterion=\"entropy\",bootstrap=True,max_depth=3,random_state=42)\n",
    "    model_dt.fit(x_train,y_train)\n",
    "    y_pred_dt=model_dt.predict(x_test)\n",
    "    acc_list_dt.append(accuracy_score(y_test,y_pred_dt))\n",
    "n=np.argmax(acc_list_dt)+1\n",
    "print('n_estimators=',n)"
   ]
  },
  {
   "cell_type": "code",
   "execution_count": 66,
   "metadata": {},
   "outputs": [
    {
     "name": "stdout",
     "output_type": "stream",
     "text": [
      "test= 0.8707482993197279 , train= 0.8537414965986394\n"
     ]
    }
   ],
   "source": [
    "model=RandomForestClassifier(n_estimators=n,criterion=\"entropy\",bootstrap=True,max_depth=3,random_state=42)\n",
    "model.fit(x_train,y_train);\n",
    "y_pred_test=model.predict(x_test)\n",
    "y_pred_train=model.predict(x_train)\n",
    "print(\"test=\",accuracy_score(y_test,y_pred_test),\", train=\",accuracy_score(y_train,y_pred_train))"
   ]
  },
  {
   "cell_type": "markdown",
   "metadata": {},
   "source": [
    "not a significant decrease in accuracy"
   ]
  },
  {
   "cell_type": "markdown",
   "metadata": {},
   "source": [
    "##### now we will try to find out best parameters using grid search technique"
   ]
  },
  {
   "cell_type": "code",
   "execution_count": 67,
   "metadata": {},
   "outputs": [],
   "source": [
    "from sklearn.model_selection import GridSearchCV"
   ]
  },
  {
   "cell_type": "code",
   "execution_count": 68,
   "metadata": {},
   "outputs": [],
   "source": [
    "parameters={'criterion':[\"entropy\", \"gini\"],\"max_depth\":list(range(1,20)),\"n_estimators\":list(range(1,40)),\"bootstrap\":[True,False]}\n",
    "grid_search=GridSearchCV(estimator=model,param_grid=parameters,scoring=\"accuracy\",cv=10,n_jobs=-1)\n",
    "# grid_search=grid_search.fit(x_train,y_train)"
   ]
  },
  {
   "cell_type": "code",
   "execution_count": 69,
   "metadata": {},
   "outputs": [
    {
     "data": {
      "text/plain": [
       "{'bootstrap': False, 'criterion': 'gini', 'max_depth': 7, 'n_estimators': 23}"
      ]
     },
     "execution_count": 69,
     "metadata": {},
     "output_type": "execute_result"
    }
   ],
   "source": [
    "grid_search.best_params_"
   ]
  },
  {
   "cell_type": "code",
   "execution_count": 70,
   "metadata": {},
   "outputs": [
    {
     "data": {
      "text/plain": [
       "0.8639359698681733"
      ]
     },
     "execution_count": 70,
     "metadata": {},
     "output_type": "execute_result"
    }
   ],
   "source": [
    "grid_search.best_score_"
   ]
  },
  {
   "cell_type": "code",
   "execution_count": 71,
   "metadata": {},
   "outputs": [
    {
     "name": "stdout",
     "output_type": "stream",
     "text": [
      "test= 0.8571428571428571 , train= 0.9124149659863946\n"
     ]
    }
   ],
   "source": [
    "model=RandomForestClassifier(n_estimators=23,criterion=\"gini\",bootstrap=False,max_depth=7,random_state=42)\n",
    "model.fit(x_train,y_train);\n",
    "y_pred_test=model.predict(x_test)\n",
    "y_pred_train=model.predict(x_train)\n",
    "print(\"test=\",accuracy_score(y_test,y_pred_test),\", train=\",accuracy_score(y_train,y_pred_train))"
   ]
  }
 ],
 "metadata": {
  "kernelspec": {
   "display_name": "Python 3",
   "language": "python",
   "name": "python3"
  },
  "language_info": {
   "codemirror_mode": {
    "name": "ipython",
    "version": 3
   },
   "file_extension": ".py",
   "mimetype": "text/x-python",
   "name": "python",
   "nbconvert_exporter": "python",
   "pygments_lexer": "ipython3",
   "version": "3.7.1"
  }
 },
 "nbformat": 4,
 "nbformat_minor": 4
}
